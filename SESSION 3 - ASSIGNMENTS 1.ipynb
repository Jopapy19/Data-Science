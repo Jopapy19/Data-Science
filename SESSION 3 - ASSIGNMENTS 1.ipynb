{
 "cells": [
  {
   "cell_type": "markdown",
   "metadata": {},
   "source": [
    "# Task 1:\n"
   ]
  },
  {
   "cell_type": "markdown",
   "metadata": {},
   "source": [
    "1. Write a function to compute 5/0 and use try/except to catch the exceptions."
   ]
  },
  {
   "cell_type": "code",
   "execution_count": 58,
   "metadata": {},
   "outputs": [
    {
     "name": "stdout",
     "output_type": "stream",
     "text": [
      "Operation Not Recommended!🤞❌\n"
     ]
    }
   ],
   "source": [
    "def divide():\n",
    "    return 5/0\n",
    "\n",
    "try:\n",
    "    divide()\n",
    "except ZeroDivisionError as e:\n",
    "    print(\"Operation Not Recommended!🤞❌\")\n",
    "except:\n",
    "    print(\"Do want to catch any other exception?⁉\")"
   ]
  },
  {
   "cell_type": "code",
   "execution_count": null,
   "metadata": {},
   "outputs": [],
   "source": []
  },
  {
   "cell_type": "markdown",
   "metadata": {},
   "source": [
    "2. Implement a Python program to generate all sentences where subject in [\"Americans\",\"Indians\"] and verb is in      [\"Play\",\"watch\"] and the object is in [\"Baseball\",\"cricket\"].\n",
    "\n",
    "  Hint: Subject, Verb and Oject should be declared in the program as shown below.\n",
    "\n",
    "  subjects=[\"Americans\",\"Indians\"]\n",
    "  verbs=[\"Play\",\"watch\"]\n",
    "  objects=[\"Baseball\",\"Cricket\"]\n",
    "\n",
    "  Output should be come as below:\n",
    "\n",
    "  Americans play Baseball.\n",
    "  Americans play Cricket.\n",
    "  Americans watch Baseball.\n",
    "  Americans watch Cricket.\n",
    "\n",
    "  Indians play Baseball.\n",
    "  Indians play Cricket.\n",
    "  Indians watch Baseball.\n",
    "  Indians watch Cricket."
   ]
  },
  {
   "cell_type": "code",
   "execution_count": 11,
   "metadata": {},
   "outputs": [
    {
     "name": "stdout",
     "output_type": "stream",
     "text": [
      "Sentence Output ===> Americans Play Baseball\n",
      "Sentence Output ===> Americans Play Cricket\n",
      "Sentence Output ===> Americans watch Baseball\n",
      "Sentence Output ===> Americans watch Cricket\n",
      "Sentence Output ===> Indians Play Baseball\n",
      "Sentence Output ===> Indians Play Cricket\n",
      "Sentence Output ===> Indians watch Baseball\n",
      "Sentence Output ===> Indians watch Cricket\n"
     ]
    }
   ],
   "source": [
    "#Using list Comprehension logic\n",
    "subjects=[\"Americans\",\"Indians\"]\n",
    "verbs=[\"Play\",\"watch\"]\n",
    "objects=[\"Baseball\",\"Cricket\"]\n",
    "\n",
    "listUtilities=[(subj+\" \"+ verb +\" \"+ obj) \n",
    "               for subj in subjects\n",
    "               for verb in verbs\n",
    "               for obj in objects]\n",
    "\n",
    "for eachSentence in listUtilities:\n",
    "    \n",
    "    print(\"Sentence Output ===>\",eachSentence)\n"
   ]
  },
  {
   "cell_type": "code",
   "execution_count": null,
   "metadata": {},
   "outputs": [],
   "source": []
  },
  {
   "cell_type": "markdown",
   "metadata": {},
   "source": [
    "## Task2:"
   ]
  },
  {
   "cell_type": "markdown",
   "metadata": {},
   "source": [
    "1. Write a function so that the columns of the ouput matrix are powers of the input vector. The order of the powers is determined by the increasing boolean argument. \n",
    "Specially, when increasing is False, the i-th output column is the input vector raised element-wise to the power of N-i-1.\n",
    "\n",
    "   HINT: Such a matrix with a geometric progression in each row is named for Alexandre Theophile Vandermonde."
   ]
  },
  {
   "cell_type": "code",
   "execution_count": 18,
   "metadata": {},
   "outputs": [
    {
     "data": {
      "text/plain": [
       "array([[  1,   1,   1,   1],\n",
       "       [ 64,  16,   4,   1],\n",
       "       [ 27,   9,   3,   1],\n",
       "       [343,  49,   7,   1]])"
      ]
     },
     "execution_count": 18,
     "metadata": {},
     "output_type": "execute_result"
    }
   ],
   "source": [
    "import numpy as np\n",
    "x = np.array([1, 4, 3, 7])\n",
    "np.vander(x)\n",
    "np.vander(x, increasing=False)"
   ]
  },
  {
   "cell_type": "code",
   "execution_count": null,
   "metadata": {},
   "outputs": [],
   "source": []
  }
 ],
 "metadata": {
  "kernelspec": {
   "display_name": "Python 3",
   "language": "python",
   "name": "python3"
  },
  "language_info": {
   "codemirror_mode": {
    "name": "ipython",
    "version": 3
   },
   "file_extension": ".py",
   "mimetype": "text/x-python",
   "name": "python",
   "nbconvert_exporter": "python",
   "pygments_lexer": "ipython3",
   "version": "3.7.6"
  }
 },
 "nbformat": 4,
 "nbformat_minor": 4
}
