{
 "cells": [
  {
   "cell_type": "markdown",
   "metadata": {},
   "source": [
    "# Task1"
   ]
  },
  {
   "cell_type": "markdown",
   "metadata": {},
   "source": [
    "1.1 - Write a Python Program to implement your own myreduce() function which works exactly like Python's built-in function reduce()"
   ]
  },
  {
   "cell_type": "code",
   "execution_count": 1,
   "metadata": {},
   "outputs": [
    {
     "name": "stdout",
     "output_type": "stream",
     "text": [
      "The multiple of list is ==> 2268\n"
     ]
    }
   ],
   "source": [
    "from functools import reduce #Only in Python 3\n",
    "mynum = [ 1, 2, 3, 6, 7, 9 ] \n",
    "fact = reduce(lambda x,y : x*y, mynum)\n",
    "print(\"The multiple of list is ==>\", fact) "
   ]
  },
  {
   "cell_type": "code",
   "execution_count": null,
   "metadata": {},
   "outputs": [],
   "source": []
  },
  {
   "cell_type": "markdown",
   "metadata": {},
   "source": [
    "1.2 - Write a Python program to implement your own myfilter() function which works exactly like Python's built-in-function filter()"
   ]
  },
  {
   "cell_type": "code",
   "execution_count": 2,
   "metadata": {},
   "outputs": [
    {
     "name": "stdout",
     "output_type": "stream",
     "text": [
      "The filtered numbers are followed:\n",
      "-2\n",
      "3\n",
      "5\n",
      "6\n",
      "9\n"
     ]
    }
   ],
   "source": [
    "#list of numbers\n",
    "numbers = [-2,-1,0,1,2,3,4,5,6,7,8,9]\n",
    "# myfilter() function\n",
    "def myfilter(number):\n",
    "    random = [-2,3,6,9,5]\n",
    "    \n",
    "    if(number in random):\n",
    "        return True\n",
    "    else:\n",
    "        return False\n",
    "myfilter = filter(myfilter, numbers)\n",
    "print('The filtered numbers are followed:')\n",
    "for n in myfilter:\n",
    "    print(n)\n",
    "    \n",
    "    \n",
    "    "
   ]
  },
  {
   "cell_type": "code",
   "execution_count": null,
   "metadata": {},
   "outputs": [],
   "source": []
  },
  {
   "cell_type": "markdown",
   "metadata": {},
   "source": [
    "2- Implement List comprehensions to produce the following lists.\n",
    "   Write List comprehensions to produce the following Lists:\n",
    "   ['A', 'C', 'A', 'D', 'G', 'I', ’L’, ‘ D’]\n",
    "   ['x', 'xx', 'xxx', 'xxxx', 'y', 'yy', 'yyy', 'yyyy', 'z', 'zz', 'zzz', 'zzzz']\n",
    "   ['x', 'y', 'z', 'xx', 'yy', 'zz', 'xx', 'yy', 'zz', 'xxxx', 'yyyy', 'zzzz']\n",
    "   [[2], [3], [4], [3], [4], [5], [4], [5], [6]]\n",
    "   [[2, 3, 4, 5], [3, 4, 5, 6], [4, 5, 6, 7], [5, 6, 7, 8]]\n",
    "   [(1, 1), (2, 1), (3, 1), (1, 2), (2, 2), (3, 2), (1, 3), (2, 3), (3, 3)]"
   ]
  },
  {
   "cell_type": "code",
   "execution_count": 3,
   "metadata": {},
   "outputs": [
    {
     "name": "stdout",
     "output_type": "stream",
     "text": [
      "*Print alphabet uppercase ==> ['A', 'C', 'A', 'D', 'G', 'I', 'L', 'D']\n"
     ]
    }
   ],
   "source": [
    "## ['A', 'C', 'A', 'D', 'G', 'I', ’L’, ‘ D’] \n",
    "uppercase = \"ACADGILD\"\n",
    "alphabet = [letter for letter in uppercase]\n",
    "print(\"*Print alphabet uppercase ==> \"+str(alphabet))\n"
   ]
  },
  {
   "cell_type": "code",
   "execution_count": 4,
   "metadata": {},
   "outputs": [
    {
     "name": "stdout",
     "output_type": "stream",
     "text": [
      "*Print list ==> ['x', 'xx', 'xxx', 'xxxx', 'y', 'yy', 'yyy', 'yyyy', 'z', 'zz', 'zzz', 'zzzz']\n"
     ]
    }
   ],
   "source": [
    "## ['x', 'xx', 'xxx', 'xxxx', 'y', 'yy', 'yyy', 'yyyy', 'z', 'zz', 'zzz', 'zzzz']\n",
    "\n",
    "list = ['x','y','z']\n",
    "print(\"*Print list ==>\",[i*j for i in list for j in range(1,5)])\n"
   ]
  },
  {
   "cell_type": "code",
   "execution_count": 5,
   "metadata": {},
   "outputs": [
    {
     "name": "stdout",
     "output_type": "stream",
     "text": [
      "*print list ==> ['x', 'y', 'z', 'xx', 'yy', 'zz', 'xxx', 'yyy', 'zzz', 'xxxx', 'yyyy', 'zzzz']\n"
     ]
    }
   ],
   "source": [
    "## ['x', 'y', 'z', 'xx', 'yy', 'zz', 'xx', 'yy', 'zz', 'xxxx', 'yyyy', 'zzzz']\n",
    "\n",
    "list = ['x','y','z']\n",
    "print(\"*print list ==>\",[i*j for j in range(1,5) for i in list])\n"
   ]
  },
  {
   "cell_type": "code",
   "execution_count": 6,
   "metadata": {},
   "outputs": [
    {
     "name": "stdout",
     "output_type": "stream",
     "text": [
      "*Print list [2,3,4] ==>[[2], [3], [4], [3], [4], [5], [4], [5], [6]]\n"
     ]
    }
   ],
   "source": [
    "## [[2], [3], [4], [3], [4], [5], [4], [5], [6]]\n",
    "\n",
    "list = [2,3,4]\n",
    "print(\"*Print list [2,3,4] ==>\" +str([[i+j] for i in list for j in range(0,3)]))"
   ]
  },
  {
   "cell_type": "code",
   "execution_count": 7,
   "metadata": {},
   "outputs": [
    {
     "name": "stdout",
     "output_type": "stream",
     "text": [
      "*Print list ==>[[2, 3, 4, 5], [3, 4, 5, 6], [4, 5, 6, 7], [5, 6, 7, 8]]\n"
     ]
    }
   ],
   "source": [
    "## [[2, 3, 4, 5], [3, 4, 5, 6], [4, 5, 6, 7], [5, 6, 7, 8]]\n",
    "list = [2,3,4,5]\n",
    "print( \"*Print list ==>\" + str([[i+j for i in list] for j in range(0,4)]))"
   ]
  },
  {
   "cell_type": "code",
   "execution_count": 8,
   "metadata": {},
   "outputs": [
    {
     "name": "stdout",
     "output_type": "stream",
     "text": [
      "*Print list ==>  [(1, 1), (2, 1), (3, 1), (1, 2), (2, 2), (3, 2), (1, 3), (2, 3), (3, 3)]\n"
     ]
    }
   ],
   "source": [
    "## [(1, 1), (2, 1), (3, 1), (1, 2), (2, 2), (3, 2), (1, 3), (2, 3), (3, 3)]\n",
    "\n",
    "list = [1,2,3]\n",
    "print(\"*Print list ==> \", [(j,i) for i in list for j in list])"
   ]
  },
  {
   "cell_type": "code",
   "execution_count": null,
   "metadata": {},
   "outputs": [],
   "source": []
  },
  {
   "cell_type": "markdown",
   "metadata": {},
   "source": [
    "3- Implement a function longestWord() thaht takes a list and returns the longest one."
   ]
  },
  {
   "cell_type": "code",
   "execution_count": 9,
   "metadata": {
    "scrolled": true
   },
   "outputs": [
    {
     "name": "stdout",
     "output_type": "stream",
     "text": [
      "The longestWord is using reduce function:iNeurone \n"
     ]
    }
   ],
   "source": [
    "from functools import reduce\n",
    "mylist = [\"Thanks\",\"And\",\"Welcome\",\"To\",\"iNeurone \"] \n",
    "def longestWord(my_list):\n",
    "    return (reduce((lambda i,j: j if len(i) < len(j) else i ), mylist))\n",
    "print( \"The longestWord is using reduce function:\"  +longestWord(mylist))\n"
   ]
  },
  {
   "cell_type": "code",
   "execution_count": null,
   "metadata": {},
   "outputs": [],
   "source": []
  },
  {
   "cell_type": "markdown",
   "metadata": {},
   "source": [
    "##  Task 2"
   ]
  },
  {
   "cell_type": "markdown",
   "metadata": {},
   "source": [
    "Write a Python Program(with class concepts) to find the area of the triangle using the below formula.\n",
    "area=(s*(s-a)*(s-b)*(s-c))**0.5\n",
    "Function to take the lenght of the sides of triangle from user should be defined in the parent class and function to calculate the area should be defined in subclass."
   ]
  },
  {
   "cell_type": "code",
   "execution_count": 6,
   "metadata": {},
   "outputs": [
    {
     "name": "stdout",
     "output_type": "stream",
     "text": [
      "Enter first side:9\n",
      "Enter second side:8\n",
      "Enter  third side:2\n",
      "Area of triangle: 7.31\n"
     ]
    }
   ],
   "source": [
    "import sys\n",
    "import math\n",
    "\n",
    "class triangle():\n",
    "    def __init__(self, a,b,c):\n",
    "        self.a=a\n",
    "        self.b=b\n",
    "        self.c=c\n",
    "  \n",
    "    def area(self):\n",
    "        s = (a + b + c)/2  # Semi-perimeter\n",
    "        area=math.sqrt(s*(s-a)*(s-b)*(s-c))\n",
    "        return area\n",
    "a=int(input(\"Enter first side:\"))\n",
    "b=int(input(\"Enter second side:\"))\n",
    "c=int(input(\"Enter  third side:\"))\n",
    "\n",
    "obj=triangle(a, b, c)\n",
    "print(\"Area of triangle:\", round(obj.area(),2))"
   ]
  },
  {
   "cell_type": "code",
   "execution_count": null,
   "metadata": {},
   "outputs": [],
   "source": []
  },
  {
   "cell_type": "markdown",
   "metadata": {},
   "source": [
    "1.2 Write a function filter_long_words() that takes a list of words and an integer n and returns the list of words that are longer than n."
   ]
  },
  {
   "cell_type": "code",
   "execution_count": 42,
   "metadata": {},
   "outputs": [
    {
     "name": "stdout",
     "output_type": "stream",
     "text": [
      "['Welcome To', 'iNeurone', 'Data Science']\n"
     ]
    }
   ],
   "source": [
    "def filter_long_words(inputList,n):\n",
    " \n",
    "    Words = []\n",
    " \n",
    "    for x in range(len(inputList)):\n",
    "        if len(inputList[x]) > n:\n",
    "            Words.append(inputList[x])\n",
    " \n",
    "    return Words\n",
    " \n",
    "inputListOfWords = ['Welcome To','iNeurone','Data Science',' Python', 'Class']\n",
    "inputWordLength = 7\n",
    " \n",
    "print (str(filter_long_words(inputListOfWords,inputWordLength)))"
   ]
  },
  {
   "cell_type": "code",
   "execution_count": null,
   "metadata": {
    "scrolled": true
   },
   "outputs": [],
   "source": []
  },
  {
   "cell_type": "markdown",
   "metadata": {},
   "source": [
    "2.1 Write a Python program using function concept that maps list of words into a list of integers\n",
    "representing the lengths of the corresponding words.\n",
    "Hint:If a list [ ab,cde,erty] is passed on to the python function output should come as [2,3,4]\n",
    "Here 2,3 and 4 are the lengths of the words in the list."
   ]
  },
  {
   "cell_type": "code",
   "execution_count": 9,
   "metadata": {
    "scrolled": true
   },
   "outputs": [
    {
     "name": "stdout",
     "output_type": "stream",
     "text": [
      " The word lenghts are:[8, 2, 8, 6, 5]\n"
     ]
    }
   ],
   "source": [
    "myList = [\"Welcome\",\"To\",\"iNeurone\",\"Python\",\"Class\"]\n",
    "def countStrLen(myList):\n",
    "    return list(map(lambda i: len(i), myList)) #Mapping the list into an integer\n",
    "print (\" The word lenghts are:\" +str(countStrLen(myList))) # Printing each word lenght in array..."
   ]
  },
  {
   "cell_type": "code",
   "execution_count": null,
   "metadata": {},
   "outputs": [],
   "source": []
  },
  {
   "cell_type": "markdown",
   "metadata": {},
   "source": [
    "2.2 Write a Python function which takes a character (i.e. a string of length 1) and returns True if it is a vowel, False otherwise.\n"
   ]
  },
  {
   "cell_type": "code",
   "execution_count": 3,
   "metadata": {},
   "outputs": [
    {
     "name": "stdout",
     "output_type": "stream",
     "text": [
      "x\n",
      "is not Vowel!🤞\n"
     ]
    }
   ],
   "source": [
    "def vowelChecker (inputChar):\n",
    " \n",
    "    if (inputChar == \"a\" or inputChar == \"A\" or\n",
    " inputChar == \"e\" or inputChar == \"E\" or\n",
    " inputChar == \"i\" or inputChar == \"I\" or\n",
    " inputChar == \"o\" or inputChar == \"O\" or\n",
    " inputChar == \"u\" or inputChar == \"U\"):\n",
    "        return \"True\"\n",
    "    else:\n",
    "        return \"False\"\n",
    "    print (\"Enter the string to check:\")\n",
    "inputChar = input()\n",
    " \n",
    "if vowelChecker(inputChar) == \"True\":\n",
    "    print(\"is a Vowel!👍\")\n",
    "else:\n",
    "    print(\"is not Vowel!🤞\")"
   ]
  },
  {
   "cell_type": "code",
   "execution_count": null,
   "metadata": {},
   "outputs": [],
   "source": []
  }
 ],
 "metadata": {
  "kernelspec": {
   "display_name": "Python 3",
   "language": "python",
   "name": "python3"
  },
  "language_info": {
   "codemirror_mode": {
    "name": "ipython",
    "version": 3
   },
   "file_extension": ".py",
   "mimetype": "text/x-python",
   "name": "python",
   "nbconvert_exporter": "python",
   "pygments_lexer": "ipython3",
   "version": "3.7.6"
  }
 },
 "nbformat": 4,
 "nbformat_minor": 4
}
